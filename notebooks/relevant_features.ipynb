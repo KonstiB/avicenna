{
 "cells": [
  {
   "cell_type": "markdown",
   "metadata": {
    "collapsed": true,
    "jupyter": {
     "outputs_hidden": true
    }
   },
   "source": [
    "Relevant Feature Extraction with SHAP\n",
    "==="
   ]
  },
  {
   "cell_type": "markdown",
   "metadata": {},
   "source": [
    "Avicenna uses a pattern matching approach to learn and relations between input elements. Matching all input elements (features) and assosiating their relation with the program behavior is not feasible. Thus, **Avicenna** uses a machine learning model to differentiate between passing and failing inputs (based on the input properties) and then uses [SHAP]() to extract the input elements that have the highest influence on the prediction outcome.\n",
    "\n",
    "In the following notebook, we will demonstrate how **Avicenna** extracts the most important input elements that are most likely to cause the failure."
   ]
  },
  {
   "cell_type": "markdown",
   "metadata": {},
   "source": [
    "#### Example Subject"
   ]
  },
  {
   "cell_type": "markdown",
   "metadata": {},
   "source": [
    "We use our sample calculator subject to illustrate Avicenna's capabilities. Please refere to the other notebooks, like [calculator.ipynb](./calculator.ipynb), for an in-depth walkthrough of the calculator subject."
   ]
  },
  {
   "cell_type": "code",
   "execution_count": 1,
   "metadata": {},
   "outputs": [],
   "source": [
    "from avicenna_formalizations.calculator import grammar, oracle, initial_inputs"
   ]
  },
  {
   "cell_type": "code",
   "execution_count": 2,
   "metadata": {},
   "outputs": [
    {
     "name": "stdout",
     "output_type": "stream",
     "text": [
      "cos(10)              NO_BUG\n",
      "sqrt(28367)          NO_BUG\n",
      "tan(-12)             NO_BUG\n",
      "sqrt(-900)           BUG\n"
     ]
    }
   ],
   "source": [
    "for inp in initial_inputs:\n",
    "    print(inp.ljust(20), oracle(inp))"
   ]
  },
  {
   "cell_type": "code",
   "execution_count": 3,
   "metadata": {},
   "outputs": [],
   "source": [
    "from fuzzingbook.Parser import EarleyParser, tree_to_string\n",
    "\n",
    "parser = EarleyParser(grammar)\n",
    "for inp in initial_inputs:\n",
    "    for tree in parser.parse(inp):\n",
    "        assert tree_to_string(tree) == inp"
   ]
  },
  {
   "cell_type": "markdown",
   "metadata": {},
   "source": [
    "## Constructing Feature Vectors"
   ]
  },
  {
   "cell_type": "code",
   "execution_count": 4,
   "metadata": {},
   "outputs": [],
   "source": [
    "from avicenna.oracle import OracleResult\n",
    "from avicenna.input import Input\n",
    "from avicenna.monads import Exceptional\n",
    "from avicenna.feature_collector import GrammarFeatureCollector"
   ]
  },
  {
   "cell_type": "code",
   "execution_count": 5,
   "metadata": {},
   "outputs": [
    {
     "name": "stdout",
     "output_type": "stream",
     "text": [
      "<class 'avicenna.input.Input'>           tan(-12)             NO_BUG\n",
      "<class 'avicenna.input.Input'>           sqrt(-900)           BUG\n",
      "<class 'avicenna.input.Input'>           sqrt(28367)          NO_BUG\n",
      "<class 'avicenna.input.Input'>           cos(10)              NO_BUG\n"
     ]
    }
   ],
   "source": [
    "test_inputs = set()\n",
    "for inp in initial_inputs:\n",
    "    test_inputs.add(\n",
    "        Input.from_str(grammar, inp, oracle=oracle(inp))\n",
    "    )\n",
    "\n",
    "for inp in test_inputs:\n",
    "    print(str(type(inp)).ljust(40), str(inp).ljust(20), inp.oracle)"
   ]
  },
  {
   "cell_type": "markdown",
   "metadata": {},
   "source": [
    "#### Collecting Features"
   ]
  },
  {
   "cell_type": "code",
   "execution_count": 6,
   "metadata": {},
   "outputs": [],
   "source": [
    "from avicenna.feature_collector import GrammarFeatureCollector, FeatureVector\n",
    "from avicenna.features import NumericFeature\n",
    "\n",
    "collector = GrammarFeatureCollector(grammar, feature_types=[NumericFeature])"
   ]
  },
  {
   "cell_type": "code",
   "execution_count": 7,
   "metadata": {},
   "outputs": [],
   "source": [
    "feature_vector: FeatureVector = collector.collect_features(\n",
    "    Input.from_str(grammar, \"sqrt(-900)\")\n",
    ")"
   ]
  },
  {
   "cell_type": "code",
   "execution_count": 8,
   "metadata": {},
   "outputs": [
    {
     "name": "stdout",
     "output_type": "stream",
     "text": [
      "sqrt(-900): {num(<onenine>): 9.0, num(<digit>): 0.0, num(<maybe_frac>): -inf, num(<number>): -900.0, num(<digits>): 0.0, num(<maybe_digits>): 0.0}\n"
     ]
    }
   ],
   "source": [
    "print(feature_vector)"
   ]
  },
  {
   "cell_type": "code",
   "execution_count": 9,
   "metadata": {},
   "outputs": [
    {
     "name": "stdout",
     "output_type": "stream",
     "text": [
      "sqrt(-900): {exists(<start>): 1, exists(<arith_expr>): 1, exists(<function>): 1, exists(<number>): 1, exists(<maybe_minus>): 1, exists(<onenine>): 1, exists(<digit>): 1, exists(<maybe_digits>): 1, exists(<digits>): 1, exists(<maybe_frac>): 1, num(<onenine>): 9.0, num(<digit>): 0.0, num(<maybe_frac>): -inf, num(<number>): -900.0, num(<digits>): 0.0, num(<maybe_digits>): 0.0, exists(<start> -> <arith_expr>): 1, exists(<arith_expr> -> <function>(<number>)): 1, exists(<function> -> sqrt): 1, exists(<function> -> sin): 0, exists(<function> -> cos): 0, exists(<function> -> tan): 0, exists(<number> -> <maybe_minus><onenine><maybe_digits><maybe_frac>): 1, exists(<maybe_minus> -> ): 0, exists(<maybe_minus> -> -): 1, exists(<onenine> -> 1): 0, exists(<onenine> -> 2): 0, exists(<onenine> -> 3): 0, exists(<onenine> -> 4): 0, exists(<onenine> -> 5): 0, exists(<onenine> -> 6): 0, exists(<onenine> -> 7): 0, exists(<onenine> -> 8): 0, exists(<onenine> -> 9): 1, exists(<digit> -> 0): 1, exists(<digit> -> 1): 0, exists(<digit> -> 2): 0, exists(<digit> -> 3): 0, exists(<digit> -> 4): 0, exists(<digit> -> 5): 0, exists(<digit> -> 6): 0, exists(<digit> -> 7): 0, exists(<digit> -> 8): 0, exists(<digit> -> 9): 0, exists(<maybe_digits> -> ): 0, exists(<maybe_digits> -> <digits>): 1, exists(<digits> -> <digit>): 1, exists(<digits> -> <digit><digits>): 1, exists(<maybe_frac> -> ): 1, exists(<maybe_frac> -> .<digits>): 0, len(<start>): 10, len(<arith_expr>): 10, len(<function>): 4, len(<number>): 4, len(<maybe_minus>): 1, len(<onenine>): 1, len(<digit>): 1, len(<maybe_digits>): 2, len(<digits>): 2, len(<maybe_frac>): 0}\n"
     ]
    }
   ],
   "source": [
    "from avicenna.features import (\n",
    "    ExistenceFeature,\n",
    "    NumericFeature,\n",
    "    LengthFeature,\n",
    "    DerivationFeature,\n",
    ")\n",
    "\n",
    "features = [\n",
    "    ExistenceFeature,\n",
    "    NumericFeature,\n",
    "    DerivationFeature,\n",
    "    LengthFeature\n",
    "]\n",
    "collector = GrammarFeatureCollector(grammar, feature_types=features)\n",
    "feature_vector: FeatureVector = collector.collect_features(\n",
    "    Input.from_str(grammar, \"sqrt(-900)\")\n",
    ")\n",
    "print(feature_vector)"
   ]
  },
  {
   "cell_type": "code",
   "execution_count": 10,
   "metadata": {},
   "outputs": [],
   "source": [
    "for inp in test_inputs:\n",
    "    inp.update_features(collector.collect_features(inp))\n",
    "    #print(inp.features)"
   ]
  },
  {
   "cell_type": "markdown",
   "metadata": {},
   "source": [
    "## Using _SHAP_ to Learn Most Influential Input Propterties"
   ]
  },
  {
   "cell_type": "code",
   "execution_count": 11,
   "metadata": {},
   "outputs": [],
   "source": [
    "from avicenna import feature_extractor"
   ]
  },
  {
   "cell_type": "code",
   "execution_count": 12,
   "metadata": {},
   "outputs": [],
   "source": [
    "feature_learner = feature_extractor.DecisionTreeRelevanceLearner(\n",
    "    grammar, prune_parent_correlation=False\n",
    ")\n",
    "(\n",
    "    relevant_features,\n",
    "    correlating_features,\n",
    "    excluded_features,\n",
    ") = feature_learner.learn(test_inputs)"
   ]
  },
  {
   "cell_type": "code",
   "execution_count": 13,
   "metadata": {},
   "outputs": [
    {
     "name": "stdout",
     "output_type": "stream",
     "text": [
      "{exists(<onenine> -> 9)}\n"
     ]
    }
   ],
   "source": [
    "print(relevant_features)"
   ]
  },
  {
   "cell_type": "code",
   "execution_count": 14,
   "metadata": {},
   "outputs": [],
   "source": [
    "feature_learner = feature_extractor.SHAPRelevanceLearner(\n",
    "    grammar,\n",
    "    classifier_type=feature_extractor.GradientBoostingTreeRelevanceLearner,\n",
    "    top_n=2,\n",
    ")"
   ]
  },
  {
   "cell_type": "code",
   "execution_count": 15,
   "metadata": {},
   "outputs": [],
   "source": [
    "rel, corr, ex = feature_learner.learn(test_inputs)"
   ]
  },
  {
   "cell_type": "code",
   "execution_count": 16,
   "metadata": {},
   "outputs": [
    {
     "name": "stdout",
     "output_type": "stream",
     "text": [
      "Length: 500\n"
     ]
    }
   ],
   "source": [
    "from isla.fuzzer import GrammarFuzzer\n",
    "import copy\n",
    "\n",
    "gold_standard_size = 500\n",
    "reduced_size = 50\n",
    "\n",
    "fuzzer = GrammarFuzzer(grammar)\n",
    "\n",
    "gold_standard_inputs = set()\n",
    "for _ in range(gold_standard_size):\n",
    "    inp = fuzzer.fuzz_tree()\n",
    "    new_input = Input(inp, oracle(inp))\n",
    "    while new_input in gold_standard_inputs:\n",
    "        inp = fuzzer.fuzz_tree()\n",
    "        new_input = Input(inp, oracle(inp))\n",
    "    gold_standard_inputs.add(new_input)\n",
    "\n",
    "print(f\"Length: {len(gold_standard_inputs)}\")\n",
    "\n",
    "small_sized_inputs = set()\n",
    "for _ in range(gold_standard_size):\n",
    "    inp = fuzzer.fuzz_tree()\n",
    "    small_sized_inputs.add(\n",
    "        Input(inp, oracle(inp))\n",
    "    )\n",
    "\n",
    "for inp in gold_standard_inputs:\n",
    "    inp.update_features(collector.collect_features(inp))\n",
    "\n",
    "for inp in small_sized_inputs:\n",
    "    inp.update_features(collector.collect_features(inp))\n",
    "\n",
    "gold_standard_inputs_copy = copy.deepcopy(gold_standard_inputs)"
   ]
  },
  {
   "cell_type": "code",
   "execution_count": 17,
   "metadata": {},
   "outputs": [
    {
     "name": "stdout",
     "output_type": "stream",
     "text": [
      "BEFORE PCA: (500, 43)\n",
      "AFTER PCA: (500, 34)\n"
     ]
    },
    {
     "ename": "AttributeError",
     "evalue": "'numpy.ndarray' object has no attribute 'get_features'",
     "output_type": "error",
     "traceback": [
      "\u001b[0;31m---------------------------------------------------------------------------\u001b[0m",
      "\u001b[0;31mAttributeError\u001b[0m                            Traceback (most recent call last)",
      "Cell \u001b[0;32mIn[17], line 5\u001b[0m\n\u001b[1;32m      3\u001b[0m features \u001b[38;5;241m=\u001b[39m generate_features(gold_standard_inputs, grammar, [ExistenceFeature, DerivationFeature, NumericFeature, LengthFeature])\n\u001b[1;32m      4\u001b[0m input_feature_vector_list \u001b[38;5;241m=\u001b[39m reduce_dimensionality(features, with_PCA \u001b[38;5;241m=\u001b[39m \u001b[38;5;28;01mTrue\u001b[39;00m)\n\u001b[0;32m----> 5\u001b[0m \u001b[38;5;28mprint\u001b[39m(\u001b[38;5;124mf\u001b[39m\u001b[38;5;124m\"\u001b[39m\u001b[38;5;124mOriginal features: \u001b[39m\u001b[38;5;132;01m{\u001b[39;00m\u001b[38;5;28mlen\u001b[39m(features[\u001b[38;5;241m0\u001b[39m]\u001b[38;5;241m.\u001b[39mget_features())\u001b[38;5;132;01m}\u001b[39;00m\u001b[38;5;124m, after monotone removal: \u001b[39m\u001b[38;5;132;01m{\u001b[39;00m\u001b[38;5;28mlen\u001b[39m(\u001b[43minput_feature_vector_list\u001b[49m\u001b[43m[\u001b[49m\u001b[38;5;241;43m0\u001b[39;49m\u001b[43m]\u001b[49m\u001b[38;5;241;43m.\u001b[39;49m\u001b[43mget_features\u001b[49m())\u001b[38;5;132;01m}\u001b[39;00m\u001b[38;5;124m\"\u001b[39m)\n\u001b[1;32m      7\u001b[0m normalized_input_vector_list \u001b[38;5;241m=\u001b[39m normalize_features(input_feature_vector_list)\n\u001b[1;32m      9\u001b[0m selected_input_feature_vectors \u001b[38;5;241m=\u001b[39m select_dissimilar_inputs(normalized_input_vector_list, reduced_size)\n",
      "\u001b[0;31mAttributeError\u001b[0m: 'numpy.ndarray' object has no attribute 'get_features'"
     ]
    }
   ],
   "source": [
    "from avicenna.input_reducer import generate_features, select_dissimilar_inputs, create_Input_list, normalize_features, reduce_dimensionality\n",
    "import re\n",
    "features = generate_features(gold_standard_inputs, grammar, [ExistenceFeature, DerivationFeature, NumericFeature, LengthFeature])\n",
    "input_feature_vector_list = reduce_dimensionality(features, with_PCA = True)\n",
    "print(f\"Original features: {len(features[0].get_features())}, after monotone removal: {len(input_feature_vector_list[0].get_features())}\")\n",
    "\n",
    "normalized_input_vector_list = normalize_features(input_feature_vector_list)\n",
    "\n",
    "selected_input_feature_vectors = select_dissimilar_inputs(normalized_input_vector_list, reduced_size)\n",
    "inputs =  create_Input_list(selected_input_feature_vectors, gold_standard_inputs)\n",
    "\n",
    "sqrt_cnt = 0\n",
    "tan_cnt = 0\n",
    "sin_cnt = 0\n",
    "cos_cnt = 0\n",
    "negative_cnt = 0\n",
    "for inp in inputs:\n",
    "    inp = str(inp)\n",
    "    if \"sqrt\" in inp:\n",
    "        sqrt_cnt = sqrt_cnt + 1\n",
    "    elif \"tan\" in inp:\n",
    "        tan_cnt = tan_cnt + 1\n",
    "    elif \"sin\" in inp:\n",
    "        sin_cnt = sin_cnt + 1\n",
    "    elif \"cos\" in inp:\n",
    "        cos_cnt = cos_cnt + 1\n",
    "    if \"-\" in inp:\n",
    "        negative_cnt = negative_cnt + 1\n",
    "print(f\"sqrt: {sqrt_cnt}, tan: {tan_cnt}, sin: {sin_cnt}, cos: {cos_cnt}, negative: {negative_cnt}\")\n",
    "\n",
    "sqrt_cnt = 0\n",
    "tan_cnt = 0\n",
    "sin_cnt = 0\n",
    "cos_cnt = 0\n",
    "negative_cnt = 0\n",
    "for inp in gold_standard_inputs:\n",
    "    inp = str(inp)\n",
    "    if \"sqrt\" in inp:\n",
    "        sqrt_cnt = sqrt_cnt + 1\n",
    "    elif \"tan\" in inp:\n",
    "        tan_cnt = tan_cnt + 1\n",
    "    elif \"sin\" in inp:\n",
    "        sin_cnt = sin_cnt + 1\n",
    "    elif \"cos\" in inp:\n",
    "        cos_cnt = cos_cnt + 1\n",
    "    if \"-\" in inp:\n",
    "        negative_cnt = negative_cnt + 1\n",
    "print(f\"sqrt: {sqrt_cnt}, tan: {tan_cnt}, sin: {sin_cnt}, cos: {cos_cnt}, negative: {negative_cnt}\")"
   ]
  },
  {
   "cell_type": "code",
   "execution_count": null,
   "metadata": {},
   "outputs": [],
   "source": [
    "feature_learner = feature_extractor.SHAPRelevanceLearner(\n",
    "    grammar,\n",
    "    classifier_type=feature_extractor.GradientBoostingTreeRelevanceLearner,\n",
    "    top_n=2,\n",
    "    show_beeswarm_plot=True\n",
    ")"
   ]
  },
  {
   "cell_type": "code",
   "execution_count": null,
   "metadata": {},
   "outputs": [],
   "source": [
    "relevant_features_gs, correlating_features_gs, _ = feature_learner.learn(gold_standard_inputs)\n",
    "relevant_features_rs, correlating_features_rs, _ = feature_learner.learn(small_sized_inputs)\n",
    "relevant_features_ds, correlating_features_ds, _ = feature_learner.learn(inputs)"
   ]
  },
  {
   "cell_type": "code",
   "execution_count": null,
   "metadata": {},
   "outputs": [],
   "source": [
    "relevant_features_gs"
   ]
  },
  {
   "cell_type": "code",
   "execution_count": null,
   "metadata": {},
   "outputs": [],
   "source": [
    "relevant_features_rs"
   ]
  },
  {
   "cell_type": "code",
   "execution_count": null,
   "metadata": {},
   "outputs": [],
   "source": [
    "relevant_features_ds"
   ]
  },
  {
   "cell_type": "code",
   "execution_count": null,
   "metadata": {},
   "outputs": [],
   "source": [
    "correlating_features_gs"
   ]
  },
  {
   "cell_type": "code",
   "execution_count": null,
   "metadata": {},
   "outputs": [],
   "source": [
    "correlating_features_rs"
   ]
  },
  {
   "cell_type": "code",
   "execution_count": null,
   "metadata": {},
   "outputs": [],
   "source": [
    "correlating_features_ds"
   ]
  },
  {
   "cell_type": "code",
   "execution_count": null,
   "metadata": {},
   "outputs": [],
   "source": []
  }
 ],
 "metadata": {
  "kernelspec": {
   "display_name": "Python 3 (ipykernel)",
   "language": "python",
   "name": "python3"
  },
  "language_info": {
   "codemirror_mode": {
    "name": "ipython",
    "version": 3
   },
   "file_extension": ".py",
   "mimetype": "text/x-python",
   "name": "python",
   "nbconvert_exporter": "python",
   "pygments_lexer": "ipython3",
   "version": "3.10.12"
  }
 },
 "nbformat": 4,
 "nbformat_minor": 4
}
